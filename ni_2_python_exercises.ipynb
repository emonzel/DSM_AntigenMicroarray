{
  "nbformat": 4,
  "nbformat_minor": 0,
  "metadata": {
    "colab": {
      "provenance": [],
      "include_colab_link": true
    },
    "kernelspec": {
      "name": "python3",
      "display_name": "Python 3"
    },
    "language_info": {
      "name": "python"
    }
  },
  "cells": [
    {
      "cell_type": "markdown",
      "metadata": {
        "id": "view-in-github",
        "colab_type": "text"
      },
      "source": [
        "<a href=\"https://colab.research.google.com/github/emonzel/DSM_AntigenMicroarray/blob/master/ni_2_python_exercises.ipynb\" target=\"_parent\"><img src=\"https://colab.research.google.com/assets/colab-badge.svg\" alt=\"Open In Colab\"/></a>"
      ]
    },
    {
      "cell_type": "markdown",
      "source": [
        "List Operations\n",
        "\n",
        "- Create a list of 5 integers.\n",
        "- Print the list.\n",
        "- Print the sum of all elements in the list.\n",
        "- Print the largest and smallest elements in the list.\n",
        "- Append a new element to the list and print the updated list.\n"
      ],
      "metadata": {
        "id": "O1ernrZcyK_y"
      }
    },
    {
      "cell_type": "code",
      "execution_count": 26,
      "metadata": {
        "id": "bvSJ5ODBxr0r",
        "colab": {
          "base_uri": "https://localhost:8080/",
          "height": 110
        },
        "outputId": "5b728c49-4c44-416d-a6cd-d54a0f81b77d"
      },
      "outputs": [
        {
          "output_type": "error",
          "ename": "SyntaxError",
          "evalue": "invalid syntax (<ipython-input-26-7475a372ae75>, line 7)",
          "traceback": [
            "\u001b[0;36m  File \u001b[0;32m\"<ipython-input-26-7475a372ae75>\"\u001b[0;36m, line \u001b[0;32m7\u001b[0m\n\u001b[0;31m    m append.[10]\u001b[0m\n\u001b[0m      ^\u001b[0m\n\u001b[0;31mSyntaxError\u001b[0m\u001b[0;31m:\u001b[0m invalid syntax\n"
          ]
        }
      ],
      "source": [
        "# EX1:\n",
        "m = [2,4,6,7,8]\n",
        "print(m)\n",
        "print(sum(m))\n",
        "print(max(m))\n",
        "print(min(m))\n"
      ]
    },
    {
      "cell_type": "markdown",
      "source": [],
      "metadata": {
        "id": "aymuH_y10u1A"
      }
    },
    {
      "cell_type": "markdown",
      "source": [
        "- Create a List of 10 random integer values\n",
        "- Create a second List and store the values which are above average of the first List\n",
        "-  From the second list: print all odd values"
      ],
      "metadata": {
        "id": "gwow-Vt_ycVU"
      }
    },
    {
      "cell_type": "code",
      "source": [
        "# EX2:\n",
        "import random\n",
        "from statistics\n",
        "mylist = [random.randint(1,100) for _ in range(10)]\n",
        "\n",
        "mean_value = sum(mylist) / len(mylist)\n",
        "###\n",
        "second_list = [x for x in mylist if x > 30]\n",
        "\n",
        "print(second_list)\n"
      ],
      "metadata": {
        "id": "-2hf1LGm0KTN",
        "colab": {
          "base_uri": "https://localhost:8080/",
          "height": 110
        },
        "outputId": "f6d048ca-839d-482b-d71f-860f0000460e"
      },
      "execution_count": 32,
      "outputs": [
        {
          "output_type": "error",
          "ename": "SyntaxError",
          "evalue": "invalid syntax (<ipython-input-32-46f4623fe41c>, line 3)",
          "traceback": [
            "\u001b[0;36m  File \u001b[0;32m\"<ipython-input-32-46f4623fe41c>\"\u001b[0;36m, line \u001b[0;32m3\u001b[0m\n\u001b[0;31m    from statistics\u001b[0m\n\u001b[0m                   ^\u001b[0m\n\u001b[0;31mSyntaxError\u001b[0m\u001b[0;31m:\u001b[0m invalid syntax\n"
          ]
        }
      ]
    },
    {
      "cell_type": "markdown",
      "source": [
        "Givent the follwoing string containing a DNA sequence:\n"
      ],
      "metadata": {
        "id": "ShcpfJlR1qzf"
      }
    },
    {
      "cell_type": "code",
      "source": [
        "# EX3:\n",
        "\n",
        "text = \"a,G,g,T,T,T,g,a,A,G,c,g,g,t,C,a,g,T,A,t,g,a,a,c,T,g,T\"\n",
        "\n",
        "# 1. Make sure all nucleotites are in uper case\n",
        "up_text = text.upper()\n",
        "print(up_text)\n",
        "\n",
        "# 2. split the nucleotites into individual character by \",\" and save them into a second list\n",
        "up_text2 = up_text.split(\",\")\n",
        "print(up_text2)\n",
        "\n",
        "# Join all elements into a single string and print\n",
        "\n",
        "# 3. Fill in the missing part:\n",
        "dna_sequence = ''.join(up_text2)\n",
        "\n",
        "print(\"DNA Sequence:\", dna_sequence)\n",
        "\n",
        "# 4. Count the occurence of \"GT\" in the new string and print the result\n",
        "print(dna_sequence.count(\"GT\"))\n",
        "\n",
        "\n",
        "\n",
        "\n",
        "\n"
      ],
      "metadata": {
        "id": "X8yqWbLE10Az",
        "colab": {
          "base_uri": "https://localhost:8080/"
        },
        "outputId": "8d594206-231b-40d2-ba7f-bb4cf5326580"
      },
      "execution_count": 39,
      "outputs": [
        {
          "output_type": "stream",
          "name": "stdout",
          "text": [
            "A,G,G,T,T,T,G,A,A,G,C,G,G,T,C,A,G,T,A,T,G,A,A,C,T,G,T\n",
            "['A', 'G', 'G', 'T', 'T', 'T', 'G', 'A', 'A', 'G', 'C', 'G', 'G', 'T', 'C', 'A', 'G', 'T', 'A', 'T', 'G', 'A', 'A', 'C', 'T', 'G', 'T']\n",
            "DNA Sequence: AGGTTTGAAGCGGTCAGTATGAACTGT\n",
            "4\n"
          ]
        }
      ]
    },
    {
      "cell_type": "markdown",
      "source": [
        "DataFrames"
      ],
      "metadata": {
        "id": "GZYs1Qjk7pyW"
      }
    },
    {
      "cell_type": "code",
      "source": [
        "# Creating a DataFrame\n",
        "import pandas as pd\n",
        "\n",
        "data = {\n",
        "    'Name': ['Alice', 'Bob', 'Charlie', 'David'],\n",
        "    'Age': [24, 27, 22, 32],\n",
        "    'City': ['New York', 'Los Angeles', 'Chicago', 'Houston']\n",
        "}\n",
        "\n",
        "# Creating a dataframe from a dictionary\n",
        "df = pd.DataFrame(data)\n",
        "\n",
        "\n"
      ],
      "metadata": {
        "id": "JugQ3hoa6VRE"
      },
      "execution_count": 40,
      "outputs": []
    },
    {
      "cell_type": "code",
      "source": [
        "# EX4:\n",
        "# Print the first 2 rows\n",
        "print(df[0:2])\n",
        "\n",
        "# check the datatypes\n",
        "print(df.dtypes)\n",
        "\n",
        "\n",
        "# use the describe function to get a statistical overview\n",
        "df.describe()\n",
        "\n",
        "\n",
        "# add the salary as column to the table:\n",
        "# [70000, 80000, 50000, 60000]\n",
        "df['Salary'] = [70000, 80000, 50000, 60000]\n",
        "\n",
        "print(df)\n",
        "df.describe()"
      ],
      "metadata": {
        "id": "66v-jzuy75Ce",
        "colab": {
          "base_uri": "https://localhost:8080/",
          "height": 536
        },
        "outputId": "3726d6c7-f838-49ca-f515-51ab6651148c"
      },
      "execution_count": 56,
      "outputs": [
        {
          "output_type": "stream",
          "name": "stdout",
          "text": [
            "    Name  Age         City  Salary\n",
            "0  Alice   24     New York   70000\n",
            "1    Bob   27  Los Angeles   80000\n",
            "Name      object\n",
            "Age        int64\n",
            "City      object\n",
            "Salary     int64\n",
            "dtype: object\n",
            "      Name  Age         City  Salary\n",
            "0    Alice   24     New York   70000\n",
            "1      Bob   27  Los Angeles   80000\n",
            "2  Charlie   22      Chicago   50000\n",
            "3    David   32      Houston   60000\n"
          ]
        },
        {
          "output_type": "execute_result",
          "data": {
            "text/plain": [
              "             Age        Salary\n",
              "count   4.000000      4.000000\n",
              "mean   26.250000  65000.000000\n",
              "std     4.349329  12909.944487\n",
              "min    22.000000  50000.000000\n",
              "25%    23.500000  57500.000000\n",
              "50%    25.500000  65000.000000\n",
              "75%    28.250000  72500.000000\n",
              "max    32.000000  80000.000000"
            ],
            "text/html": [
              "\n",
              "  <div id=\"df-50795e66-a342-4cfb-a844-ba2f618ae130\" class=\"colab-df-container\">\n",
              "    <div>\n",
              "<style scoped>\n",
              "    .dataframe tbody tr th:only-of-type {\n",
              "        vertical-align: middle;\n",
              "    }\n",
              "\n",
              "    .dataframe tbody tr th {\n",
              "        vertical-align: top;\n",
              "    }\n",
              "\n",
              "    .dataframe thead th {\n",
              "        text-align: right;\n",
              "    }\n",
              "</style>\n",
              "<table border=\"1\" class=\"dataframe\">\n",
              "  <thead>\n",
              "    <tr style=\"text-align: right;\">\n",
              "      <th></th>\n",
              "      <th>Age</th>\n",
              "      <th>Salary</th>\n",
              "    </tr>\n",
              "  </thead>\n",
              "  <tbody>\n",
              "    <tr>\n",
              "      <th>count</th>\n",
              "      <td>4.000000</td>\n",
              "      <td>4.000000</td>\n",
              "    </tr>\n",
              "    <tr>\n",
              "      <th>mean</th>\n",
              "      <td>26.250000</td>\n",
              "      <td>65000.000000</td>\n",
              "    </tr>\n",
              "    <tr>\n",
              "      <th>std</th>\n",
              "      <td>4.349329</td>\n",
              "      <td>12909.944487</td>\n",
              "    </tr>\n",
              "    <tr>\n",
              "      <th>min</th>\n",
              "      <td>22.000000</td>\n",
              "      <td>50000.000000</td>\n",
              "    </tr>\n",
              "    <tr>\n",
              "      <th>25%</th>\n",
              "      <td>23.500000</td>\n",
              "      <td>57500.000000</td>\n",
              "    </tr>\n",
              "    <tr>\n",
              "      <th>50%</th>\n",
              "      <td>25.500000</td>\n",
              "      <td>65000.000000</td>\n",
              "    </tr>\n",
              "    <tr>\n",
              "      <th>75%</th>\n",
              "      <td>28.250000</td>\n",
              "      <td>72500.000000</td>\n",
              "    </tr>\n",
              "    <tr>\n",
              "      <th>max</th>\n",
              "      <td>32.000000</td>\n",
              "      <td>80000.000000</td>\n",
              "    </tr>\n",
              "  </tbody>\n",
              "</table>\n",
              "</div>\n",
              "    <div class=\"colab-df-buttons\">\n",
              "\n",
              "  <div class=\"colab-df-container\">\n",
              "    <button class=\"colab-df-convert\" onclick=\"convertToInteractive('df-50795e66-a342-4cfb-a844-ba2f618ae130')\"\n",
              "            title=\"Convert this dataframe to an interactive table.\"\n",
              "            style=\"display:none;\">\n",
              "\n",
              "  <svg xmlns=\"http://www.w3.org/2000/svg\" height=\"24px\" viewBox=\"0 -960 960 960\">\n",
              "    <path d=\"M120-120v-720h720v720H120Zm60-500h600v-160H180v160Zm220 220h160v-160H400v160Zm0 220h160v-160H400v160ZM180-400h160v-160H180v160Zm440 0h160v-160H620v160ZM180-180h160v-160H180v160Zm440 0h160v-160H620v160Z\"/>\n",
              "  </svg>\n",
              "    </button>\n",
              "\n",
              "  <style>\n",
              "    .colab-df-container {\n",
              "      display:flex;\n",
              "      gap: 12px;\n",
              "    }\n",
              "\n",
              "    .colab-df-convert {\n",
              "      background-color: #E8F0FE;\n",
              "      border: none;\n",
              "      border-radius: 50%;\n",
              "      cursor: pointer;\n",
              "      display: none;\n",
              "      fill: #1967D2;\n",
              "      height: 32px;\n",
              "      padding: 0 0 0 0;\n",
              "      width: 32px;\n",
              "    }\n",
              "\n",
              "    .colab-df-convert:hover {\n",
              "      background-color: #E2EBFA;\n",
              "      box-shadow: 0px 1px 2px rgba(60, 64, 67, 0.3), 0px 1px 3px 1px rgba(60, 64, 67, 0.15);\n",
              "      fill: #174EA6;\n",
              "    }\n",
              "\n",
              "    .colab-df-buttons div {\n",
              "      margin-bottom: 4px;\n",
              "    }\n",
              "\n",
              "    [theme=dark] .colab-df-convert {\n",
              "      background-color: #3B4455;\n",
              "      fill: #D2E3FC;\n",
              "    }\n",
              "\n",
              "    [theme=dark] .colab-df-convert:hover {\n",
              "      background-color: #434B5C;\n",
              "      box-shadow: 0px 1px 3px 1px rgba(0, 0, 0, 0.15);\n",
              "      filter: drop-shadow(0px 1px 2px rgba(0, 0, 0, 0.3));\n",
              "      fill: #FFFFFF;\n",
              "    }\n",
              "  </style>\n",
              "\n",
              "    <script>\n",
              "      const buttonEl =\n",
              "        document.querySelector('#df-50795e66-a342-4cfb-a844-ba2f618ae130 button.colab-df-convert');\n",
              "      buttonEl.style.display =\n",
              "        google.colab.kernel.accessAllowed ? 'block' : 'none';\n",
              "\n",
              "      async function convertToInteractive(key) {\n",
              "        const element = document.querySelector('#df-50795e66-a342-4cfb-a844-ba2f618ae130');\n",
              "        const dataTable =\n",
              "          await google.colab.kernel.invokeFunction('convertToInteractive',\n",
              "                                                    [key], {});\n",
              "        if (!dataTable) return;\n",
              "\n",
              "        const docLinkHtml = 'Like what you see? Visit the ' +\n",
              "          '<a target=\"_blank\" href=https://colab.research.google.com/notebooks/data_table.ipynb>data table notebook</a>'\n",
              "          + ' to learn more about interactive tables.';\n",
              "        element.innerHTML = '';\n",
              "        dataTable['output_type'] = 'display_data';\n",
              "        await google.colab.output.renderOutput(dataTable, element);\n",
              "        const docLink = document.createElement('div');\n",
              "        docLink.innerHTML = docLinkHtml;\n",
              "        element.appendChild(docLink);\n",
              "      }\n",
              "    </script>\n",
              "  </div>\n",
              "\n",
              "\n",
              "<div id=\"df-a083b9d0-7090-4b70-bdef-8bb71a59294e\">\n",
              "  <button class=\"colab-df-quickchart\" onclick=\"quickchart('df-a083b9d0-7090-4b70-bdef-8bb71a59294e')\"\n",
              "            title=\"Suggest charts\"\n",
              "            style=\"display:none;\">\n",
              "\n",
              "<svg xmlns=\"http://www.w3.org/2000/svg\" height=\"24px\"viewBox=\"0 0 24 24\"\n",
              "     width=\"24px\">\n",
              "    <g>\n",
              "        <path d=\"M19 3H5c-1.1 0-2 .9-2 2v14c0 1.1.9 2 2 2h14c1.1 0 2-.9 2-2V5c0-1.1-.9-2-2-2zM9 17H7v-7h2v7zm4 0h-2V7h2v10zm4 0h-2v-4h2v4z\"/>\n",
              "    </g>\n",
              "</svg>\n",
              "  </button>\n",
              "\n",
              "<style>\n",
              "  .colab-df-quickchart {\n",
              "      --bg-color: #E8F0FE;\n",
              "      --fill-color: #1967D2;\n",
              "      --hover-bg-color: #E2EBFA;\n",
              "      --hover-fill-color: #174EA6;\n",
              "      --disabled-fill-color: #AAA;\n",
              "      --disabled-bg-color: #DDD;\n",
              "  }\n",
              "\n",
              "  [theme=dark] .colab-df-quickchart {\n",
              "      --bg-color: #3B4455;\n",
              "      --fill-color: #D2E3FC;\n",
              "      --hover-bg-color: #434B5C;\n",
              "      --hover-fill-color: #FFFFFF;\n",
              "      --disabled-bg-color: #3B4455;\n",
              "      --disabled-fill-color: #666;\n",
              "  }\n",
              "\n",
              "  .colab-df-quickchart {\n",
              "    background-color: var(--bg-color);\n",
              "    border: none;\n",
              "    border-radius: 50%;\n",
              "    cursor: pointer;\n",
              "    display: none;\n",
              "    fill: var(--fill-color);\n",
              "    height: 32px;\n",
              "    padding: 0;\n",
              "    width: 32px;\n",
              "  }\n",
              "\n",
              "  .colab-df-quickchart:hover {\n",
              "    background-color: var(--hover-bg-color);\n",
              "    box-shadow: 0 1px 2px rgba(60, 64, 67, 0.3), 0 1px 3px 1px rgba(60, 64, 67, 0.15);\n",
              "    fill: var(--button-hover-fill-color);\n",
              "  }\n",
              "\n",
              "  .colab-df-quickchart-complete:disabled,\n",
              "  .colab-df-quickchart-complete:disabled:hover {\n",
              "    background-color: var(--disabled-bg-color);\n",
              "    fill: var(--disabled-fill-color);\n",
              "    box-shadow: none;\n",
              "  }\n",
              "\n",
              "  .colab-df-spinner {\n",
              "    border: 2px solid var(--fill-color);\n",
              "    border-color: transparent;\n",
              "    border-bottom-color: var(--fill-color);\n",
              "    animation:\n",
              "      spin 1s steps(1) infinite;\n",
              "  }\n",
              "\n",
              "  @keyframes spin {\n",
              "    0% {\n",
              "      border-color: transparent;\n",
              "      border-bottom-color: var(--fill-color);\n",
              "      border-left-color: var(--fill-color);\n",
              "    }\n",
              "    20% {\n",
              "      border-color: transparent;\n",
              "      border-left-color: var(--fill-color);\n",
              "      border-top-color: var(--fill-color);\n",
              "    }\n",
              "    30% {\n",
              "      border-color: transparent;\n",
              "      border-left-color: var(--fill-color);\n",
              "      border-top-color: var(--fill-color);\n",
              "      border-right-color: var(--fill-color);\n",
              "    }\n",
              "    40% {\n",
              "      border-color: transparent;\n",
              "      border-right-color: var(--fill-color);\n",
              "      border-top-color: var(--fill-color);\n",
              "    }\n",
              "    60% {\n",
              "      border-color: transparent;\n",
              "      border-right-color: var(--fill-color);\n",
              "    }\n",
              "    80% {\n",
              "      border-color: transparent;\n",
              "      border-right-color: var(--fill-color);\n",
              "      border-bottom-color: var(--fill-color);\n",
              "    }\n",
              "    90% {\n",
              "      border-color: transparent;\n",
              "      border-bottom-color: var(--fill-color);\n",
              "    }\n",
              "  }\n",
              "</style>\n",
              "\n",
              "  <script>\n",
              "    async function quickchart(key) {\n",
              "      const quickchartButtonEl =\n",
              "        document.querySelector('#' + key + ' button');\n",
              "      quickchartButtonEl.disabled = true;  // To prevent multiple clicks.\n",
              "      quickchartButtonEl.classList.add('colab-df-spinner');\n",
              "      try {\n",
              "        const charts = await google.colab.kernel.invokeFunction(\n",
              "            'suggestCharts', [key], {});\n",
              "      } catch (error) {\n",
              "        console.error('Error during call to suggestCharts:', error);\n",
              "      }\n",
              "      quickchartButtonEl.classList.remove('colab-df-spinner');\n",
              "      quickchartButtonEl.classList.add('colab-df-quickchart-complete');\n",
              "    }\n",
              "    (() => {\n",
              "      let quickchartButtonEl =\n",
              "        document.querySelector('#df-a083b9d0-7090-4b70-bdef-8bb71a59294e button');\n",
              "      quickchartButtonEl.style.display =\n",
              "        google.colab.kernel.accessAllowed ? 'block' : 'none';\n",
              "    })();\n",
              "  </script>\n",
              "</div>\n",
              "    </div>\n",
              "  </div>\n"
            ],
            "application/vnd.google.colaboratory.intrinsic+json": {
              "type": "dataframe",
              "summary": "{\n  \"name\": \"df\",\n  \"rows\": 8,\n  \"fields\": [\n    {\n      \"column\": \"Age\",\n      \"properties\": {\n        \"dtype\": \"number\",\n        \"std\": 10.652240923058423,\n        \"min\": 4.0,\n        \"max\": 32.0,\n        \"num_unique_values\": 8,\n        \"samples\": [\n          26.25,\n          25.5,\n          4.0\n        ],\n        \"semantic_type\": \"\",\n        \"description\": \"\"\n      }\n    },\n    {\n      \"column\": \"Salary\",\n      \"properties\": {\n        \"dtype\": \"number\",\n        \"std\": 28751.921301941933,\n        \"min\": 4.0,\n        \"max\": 80000.0,\n        \"num_unique_values\": 7,\n        \"samples\": [\n          4.0,\n          65000.0,\n          72500.0\n        ],\n        \"semantic_type\": \"\",\n        \"description\": \"\"\n      }\n    }\n  ]\n}"
            }
          },
          "metadata": {},
          "execution_count": 56
        }
      ]
    },
    {
      "cell_type": "code",
      "source": [],
      "metadata": {
        "id": "bqKmdk8Z8WHo"
      },
      "execution_count": null,
      "outputs": []
    }
  ]
}